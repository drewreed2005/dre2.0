{
 "cells": [
  {
   "cell_type": "markdown",
   "metadata": {},
   "source": [
    "---\n",
    "title: Workshop 2 Hacks\n",
    "description: Classes Workshop Hacks\n",
    "toc: true\n",
    "layout: post\n",
    "courses: { csa: {week: 28} }\n",
    "type: tangible\n",
    "comments: true\n",
    "---"
   ]
  },
  {
   "cell_type": "markdown",
   "metadata": {},
   "source": [
    "# Free Response Questions\n",
    "\n",
    "## Question 1 - Pojos and Access Control:\n",
    "\n",
    "Situation: The school librarian wants to create a program that stores all of the books within the library in a database and is used to manage their inventory of books available to the students. You decided to put your amazing code skills to work and help out the librarian!\n",
    "\n",
    "a. Describe the key differences between the private and public access controllers and how it affects a POJO\n",
    "\n",
    "<mark>Private access means that a variable or method can only be directly accessed within the object's own data and methods, NOT by directly calling them outside of it. Private variables can't even be accessed by subclasses. For example, if an object Book has a private String author, you could NOT access an instance's book.author directly; you'd have to access through a getter like book.getAuthor().</mark>\n",
    "\n",
    "<mark>Public access means that a variable or method can be accessed from any other class. This can be used for easier implementation if the integrity of the object's data is not of great importance, for example. It may lead to reduced encapsulation if used incorrectly.</mark>\n",
    "\n",
    "<mark>Using private access in a POJO ensures that its internal state is only accessible and modifiable by methods defined within the same class, which helps maintain data integrity and encapsulation principles. The scope of a class, variable or method in the context of a POJO primarily affects the ability of other classes to interact with it. Using private can help to control the manipulation of data by ensuring that it only occurs within the specific conditions of the object.</mark>\n",
    "\n",
    "b. Identify a scenario when you would use the private vs. public access controllers that isn't the one given in the scenario above.\n",
    "\n",
    "<mark>One example is a pretty common one: a BankAccount class vs. a Bank class. A BankAccount object would have a lot of important info that should not be modifiable outside of the specifications of the BankAccount class, ensuring that the data is safe and accessed in limited ways. However, since we do want people to be able to access their bank accounts within limited capacity, the class Bank would contain public methods to interact with BankAccounts, particularly given proper credentials and valid arguments.</mark>\n",
    "\n",
    "c. Create a Book class that represents the following attributes about a book: title, author, date published, person holding the book and make sure that the objects are using a POJO, the proper getters and setters and are secure from any other modifications that the program makes later to the objects"
   ]
  },
  {
   "cell_type": "code",
   "execution_count": null,
   "metadata": {
    "vscode": {
     "languageId": "java"
    }
   },
   "outputs": [],
   "source": [
    "import java.util.Date;\n",
    "\n",
    "public class Book {\n",
    "    private String title;\n",
    "    private String author;\n",
    "    private Date datePublished;\n",
    "\n",
    "}"
   ]
  },
  {
   "cell_type": "markdown",
   "metadata": {},
   "source": [
    "## Question 2 - Writing Classes:\n",
    "\n",
    "(a) Describe the different features needed to create a class and what their purpose is.\n",
    "\n",
    "(b) Code:\n",
    "\n",
    "Create a Java class BankAccount to represent a simple bank account. This class should have the following attributes:\n",
    "- accountHolder (String): The name of the account holder.\n",
    "balance (double): The current balance in the account.\n",
    "Implement the following mutator (setter) methods for the BankAccount class:\n",
    "- setAccountHolder(String name): Sets the name of the account holder.\n",
    "- deposit(double amount): Deposits a given amount into the account.\n",
    "- withdraw(double amount): Withdraws a given amount from the account, but only if the withdrawal amount is less than or equal to the current balance.\n",
    "Ensure that the balance is never negative."
   ]
  },
  {
   "cell_type": "code",
   "execution_count": null,
   "metadata": {
    "vscode": {
     "languageId": "java"
    }
   },
   "outputs": [],
   "source": []
  },
  {
   "cell_type": "markdown",
   "metadata": {},
   "source": [
    "## Question 3 - Instantiation of a Class\n",
    "\n",
    "(a) Explain how a constructor works, including when it runs and what generally is done within a constructor.\n",
    "\n",
    "(b) Create an example of an overloaded constructor within a class. You must use at least three variables. Include the correct initialization of variables and correct headers for the constructor. Then, run the constructor at least twice with different variables and demonstrate that these two objects called different constructors. "
   ]
  },
  {
   "cell_type": "code",
   "execution_count": null,
   "metadata": {
    "vscode": {
     "languageId": "java"
    }
   },
   "outputs": [],
   "source": []
  },
  {
   "cell_type": "markdown",
   "metadata": {},
   "source": [
    "## Question 4 - Wrapper Classes:\n",
    "\n",
    "(a) Provide a brief summary of what a wrapper class is and provide a small code block showing a basic example of a wrapper class.\n",
    "\n",
    "<mark>A wrapper class is a class that \"wraps\" a primitive data type within an object. This lets you use primitives as objects, which allows for additional functionality like methods, constructors, and compatibility with collections like ArrayLists. Wrapper classes are especially useful in scenarios where objects are required instead of primitives. An example of that kind of scenario can be seen in the code block below:</mark>"
   ]
  },
  {
   "cell_type": "code",
   "execution_count": 1,
   "metadata": {
    "vscode": {
     "languageId": "java"
    }
   },
   "outputs": [
    {
     "name": "stdout",
     "output_type": "stream",
     "text": [
      "Integers in ArrayList:\n",
      "\t10\n",
      "\t20\n"
     ]
    }
   ],
   "source": [
    "public class Main {\n",
    "    public static void main(String[] args) {\n",
    "        // an ArrayList is a collection type taht requires an object type\n",
    "        ArrayList<Integer> numbers = new ArrayList<>();\n",
    "\n",
    "        // int value to be added to the Integer arraylist\n",
    "        int intValue1 = 10;\n",
    "        Integer integerValue1 = intValue1; // autoboxing: int to Integer\n",
    "        numbers.add(integerValue1);\n",
    "\n",
    "        Integer intValue2 = 20; // directly defining the int as the object Integer\n",
    "        numbers.add(intValue2);\n",
    "\n",
    "        // printing the arraylist\n",
    "        System.out.println(\"Integers in ArrayList:\");\n",
    "        for (Integer number : numbers) {\n",
    "            System.out.println(\"\\t\" + number);\n",
    "        }\n",
    "    }\n",
    "}\n",
    "\n",
    "Main.main(null);"
   ]
  },
  {
   "cell_type": "markdown",
   "metadata": {},
   "source": [
    "\n",
    "(b) Create a Java wrapper class called Temperature to represent temperatures in Celsius. Your Temperature class should have the following features:\n",
    "\n",
    "Fields:\n",
    "\n",
    "A private double field to store the temperature value in Celsius.\n",
    "\n",
    "\n",
    "Constructor:\n",
    "\n",
    "A constructor that takes a double value representing the temperature in Celsius and initializes the field.\n",
    "\n",
    "\n",
    "Methods:\n",
    "\n",
    "getTemperature(): A method that returns the temperature value in Celsius.\n",
    "setTemperature(double value): A method that sets a new temperature value in Celsius.\n",
    "toFahrenheit(): A method that converts the temperature from Celsius to Fahrenheit and returns the result as a double value. "
   ]
  },
  {
   "cell_type": "code",
   "execution_count": 2,
   "metadata": {
    "vscode": {
     "languageId": "java"
    }
   },
   "outputs": [
    {
     "name": "stdout",
     "output_type": "stream",
     "text": [
      "Current temperature (in degrees C): 32.8\n",
      "Temperature after using setter (in degrees C): 33.7\n",
      "New temperature converted to degrees F: 92.66\n"
     ]
    }
   ],
   "source": [
    "public class Temperature {\n",
    "    // single double attribute in Celcius (C)\n",
    "    private double tempInC;\n",
    "\n",
    "    // constructor that takes the temp and initializes\n",
    "    public Temperature(double tempInC) {\n",
    "        this.tempInC = tempInC;\n",
    "    }\n",
    "\n",
    "    // specified getter method that returns temp\n",
    "    public double getTemperature() {\n",
    "        return this.tempInC;\n",
    "    }\n",
    "\n",
    "    // specified setter method that sets its temp in celcius\n",
    "    public void setTemperature(double value) {\n",
    "        this.tempInC = value;\n",
    "    }\n",
    "\n",
    "    // unique method: converts celcius to farenheit\n",
    "    // this is a good example of how this object would wrap a double well\n",
    "    // providing access to unique functionality\n",
    "    public double toFahrenheit() {\n",
    "        // Celsius to Fahrenheit formula: (C × 9/5) + 32\n",
    "        double tempInF = (this.tempInC * 9 / 5) + 32;\n",
    "        return tempInF;\n",
    "    }\n",
    "\n",
    "    // main method for functionality\n",
    "    public static void main(String[] args) {\n",
    "        // creating temperature instance\n",
    "        Temperature testTemperature = new Temperature(32.8);\n",
    "        // using getter and setter\n",
    "        System.out.println(\"Current temperature (in degrees C): \" + testTemperature.getTemperature());\n",
    "        testTemperature.setTemperature(33.7);\n",
    "        System.out.println(\"Temperature after using setter (in degrees C): \" + testTemperature.getTemperature());\n",
    "        // using the fahrenheit converter\n",
    "        System.out.println(\"New temperature converted to degrees F: \" + testTemperature.toFahrenheit());\n",
    "    }\n",
    "}\n",
    "\n",
    "Temperature.main(null);"
   ]
  },
  {
   "cell_type": "markdown",
   "metadata": {},
   "source": [
    "## Question 5 - Inheritence:\n",
    "\n",
    "Situation: You are developing a program to manage a zoo, where various types of animals are kept in different enclosures. To streamline your code, you decide to use inheritance to model the relationships between different types of animals and their behaviors.\n",
    "\n",
    "(a) Explain the concept of inheritance in Java. Provide an example scenario where inheritance is useful.\n",
    "\n",
    "<mark>Inheritence allows POJOs to be able to use attributes and methods from other classes that act as parents to them. This can also allow a more specific instance of a broader class to be used (in the examples above, a Textbook being a more specific type of Book (parent class)). Inheritence is implemented by declaring a class a subclass of another class (the parent class), which will allow the class to utilize attributes, methods, and (using super()) constructors of the parent.</mark>\n",
    "\n",
    "<mark>Inheritance can be useful, for example, if creating a subset of a broader object type that must handle a greater number of variables/attributes and/or must handle parent variables/attributes in a way that is different from the parent. If a Sandwich class, for example, was being used, a Hamburger subclass may be helpful if we wanted more specific data about the hamburger. It might have a meatWeight attribute or a cookType (medium, well, etc.) attribute that a sandwich would not need/have. However, by extending Sandwich, the hamburger class could utilize the attribtes like the contents of the Sandwich that apply to the burger, too.</mark>\n",
    "\n",
    "(b) Code:\n",
    "\n",
    "You need to implement a Java class hierarchy to represent different types of animals in the zoo. Create a superclass Animal with basic attributes and methods common to all animals, and at least three subclasses representing specific types of animals with additional attributes and methods. Include comments to explain your code, specifically how inheritance is used.\n"
   ]
  },
  {
   "cell_type": "code",
   "execution_count": 3,
   "metadata": {
    "vscode": {
     "languageId": "java"
    }
   },
   "outputs": [
    {
     "name": "stdout",
     "output_type": "stream",
     "text": [
      "The creature moves at 20 kilometers per hour!\n",
      "\n",
      "The owner's name is John Goldenretriever.\n",
      "The Golden Retriever moves at 30 kilometers per hour!\n",
      "The Golden Retriever barks! The owner, John Goldenretriever, tells his/her dog to stop!\n",
      "\n",
      "The goldfish moves at 1 kilometers per hour!\n",
      "The goldfish lays about 1000 eggs.\n",
      "\n",
      "The black iguana moves at 20 kilometers per hour!\n",
      "The lizard's tail was removed!\n",
      "The lizard's tail regrew!\n"
     ]
    }
   ],
   "source": [
    "// here is the basic base Animal class\n",
    "public class Animal {\n",
    "    // these attributes can apply to any animal that exists\n",
    "    private String speciesName;\n",
    "    private int massInKg;\n",
    "    private int speedInKmph;\n",
    "    private String[] habitats;\n",
    "    // this constructor will be inherited by the subclasses\n",
    "    public Animal(String speciesName, int massInKg, int speedInKmph, String[] habitats) {\n",
    "        this.speciesName = speciesName;\n",
    "        this.massInKg = massInKg;\n",
    "        this.speedInKmph = speedInKmph;\n",
    "        this.habitats = habitats;\n",
    "    }\n",
    "    // getter for other classes\n",
    "    public String getSpeciesName() {\n",
    "        return this.speciesName;\n",
    "    }\n",
    "    // all animals move at some speed, so this method works for all animals\n",
    "    public void move() {\n",
    "        System.out.println(\"The \" + this.speciesName + \" moves at \" + this.speedInKmph + \" kilometers per hour!\");\n",
    "    }\n",
    "}\n",
    "\n",
    "public class PetDog extends Animal {\n",
    "    // an additional attribute for all types of dogs\n",
    "    private String owner;\n",
    "    // this constructor will use super() to implement the Animal() constructor\n",
    "    public PetDog(String speciesName, int massInKg, int speedInKmph, String[] habitats, String owner) {\n",
    "        // calling super(), which calls the parent class's constructor\n",
    "        super(speciesName, massInKg, speedInKmph, habitats);\n",
    "        // setting new attribute separate from super\n",
    "        this.owner = owner;\n",
    "    }\n",
    "    // getter for testing\n",
    "    public String getOwner() {\n",
    "        return this.owner;\n",
    "    }\n",
    "    // new method: bark (because dogs bark idk bro)\n",
    "    public void bark() {\n",
    "        System.out.println(\"The \" + this.getSpeciesName() + \" barks! The owner, \" + this.owner + \", tells his/her dog to stop!\");\n",
    "    }\n",
    "}\n",
    "\n",
    "public class Fish extends Animal {\n",
    "    // an additional attribute for all types of fish\n",
    "    private int numberOfEggs;\n",
    "    // this constructor will use super() to implement the Animal() constructor\n",
    "    public Fish(String speciesName, int massInKg, int speedInKmph, String[] habitats, int numberOfEggs) {\n",
    "        // calling super(), which calls the parent class's constructor\n",
    "        super(speciesName, massInKg, speedInKmph, habitats);\n",
    "        // setting new attribute separate from super\n",
    "        this.numberOfEggs = numberOfEggs;\n",
    "    }\n",
    "    // getter for testing\n",
    "    public int getNumberOfEggs() {\n",
    "        return this.numberOfEggs;\n",
    "    }\n",
    "    // new method: lay eggs (because fish lay eggs)\n",
    "    public void layEggs() {\n",
    "        System.out.println(\"The \" + this.getSpeciesName() + \" lays about \" + this.numberOfEggs + \" eggs.\");\n",
    "    }\n",
    "}\n",
    "\n",
    "public class Lizard extends Animal {\n",
    "    // an additional attribute for all types of lizards\n",
    "    private boolean hasTail;\n",
    "    // this constructor will use super() to implement the Animal() constructor\n",
    "    public Lizard(String speciesName, int massInKg, int speedInKmph, String[] habitats, boolean hasTail) {\n",
    "        // calling super(), which calls the parent class's constructor\n",
    "        super(speciesName, massInKg, speedInKmph, habitats);\n",
    "        // setting new attribute separate from super\n",
    "        this.hasTail = hasTail;\n",
    "    }\n",
    "    // getter for testing\n",
    "    public boolean getHasTail() {\n",
    "        return this.hasTail;\n",
    "    }\n",
    "    // new method: remove tail (works together with the following method)\n",
    "    public void removeTail() {\n",
    "        if (this.hasTail) {\n",
    "            this.hasTail = false; // the lizard no longer has a tail\n",
    "            System.out.println(\"The lizard's tail was removed!\");\n",
    "        } else { // if the tail was already removed\n",
    "            System.out.println(\"The lizard's tail has already been removed.\");\n",
    "        }\n",
    "    }\n",
    "    // new method: remove tail (lizards can regrow their tails)\n",
    "    public void regrowTail() {\n",
    "        if (!(this.hasTail)) {\n",
    "            this.hasTail = true; // the tail grows back, so it has a tail now\n",
    "            System.out.println(\"The lizard's tail regrew!\");\n",
    "        } else { // if it already has a tail\n",
    "            System.out.println(\"The lizard already has a tail.\");\n",
    "        }\n",
    "    }\n",
    "}\n",
    "\n",
    "public class Main {\n",
    "    // main method used for functionality; see subclasses below\n",
    "    public static void main(String[] args) {\n",
    "        // creating a base animal object\n",
    "        String[] animalHabitats = {\"savannah\", \"marshland\"};\n",
    "        Animal animal = new Animal(\"creature\", 100, 20, animalHabitats);\n",
    "        animal.move(); // showing method functionality\n",
    "        System.out.println();\n",
    "\n",
    "        // instance of petdog subclass to show functionality\n",
    "        String[] goldenRetrieverHabitats = {\"suburban home\"};\n",
    "        PetDog goldenRetriever = new PetDog(\"Golden Retriever\", 65, 30, goldenRetrieverHabitats, \"John Goldenretriever\");\n",
    "        System.out.println(\"The owner's name is \" + goldenRetriever.getOwner() + \".\"); // unique attribute to this subclass\n",
    "        goldenRetriever.move(); // parent method is called\n",
    "        goldenRetriever.bark(); // unique subclass method\n",
    "        System.out.println();\n",
    "\n",
    "        // instance fish subclass to show functionality\n",
    "        String[] goldfishHabitats = {\"freshwater lakes\", \"freshwater bogs\", \"freshwater swamps\"};\n",
    "        Fish goldfish = new Fish(\"goldfish\", 1, 1, goldfishHabitats, 1000);\n",
    "        goldfish.move(); // parent method is being called\n",
    "        goldfish.layEggs(); // both a unique subclass method and one that shows a unique attribute\n",
    "        System.out.println();\n",
    "\n",
    "        // instance of lizard subclass to show functionality\n",
    "        String[] blackIguanaHab = {\"forests\"};\n",
    "        Lizard blackIg = new Lizard(\"black iguana\", 5, 20, blackIguanaHab, true);\n",
    "        blackIg.move(); // parent method is being called\n",
    "        blackIg.removeTail(); // subclass method using new attribute hasTail\n",
    "        blackIg.regrowTail(); // subclass method that uses that same attribute again with more logic\n",
    "    }\n",
    "}\n",
    "\n",
    "Main.main(null);"
   ]
  }
 ],
 "metadata": {
  "kernelspec": {
   "display_name": "Java",
   "language": "java",
   "name": "java"
  },
  "language_info": {
   "codemirror_mode": "java",
   "file_extension": ".jshell",
   "mimetype": "text/x-java-source",
   "name": "Java",
   "pygments_lexer": "java",
   "version": "11.0.20.1+0"
  }
 },
 "nbformat": 4,
 "nbformat_minor": 2
}
