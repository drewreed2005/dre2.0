{
 "cells": [
  {
   "cell_type": "markdown",
   "metadata": {},
   "source": [
    "---\n",
    "title: Workshop 1 Hacks\n",
    "description: Methods & Control Structures Workshop Hacks\n",
    "toc: true\n",
    "layout: post\n",
    "courses: { csa: {week: 27} }\n",
    "type: tangible\n",
    "comments: true\n",
    "---"
   ]
  },
  {
   "cell_type": "markdown",
   "metadata": {},
   "source": [
    "## Question 1: Primitive Types vs Reference Types (Unit 1)\n",
    "\n",
    "### Part 1: MCQ"
   ]
  },
  {
   "cell_type": "code",
   "execution_count": null,
   "metadata": {
    "vscode": {
     "languageId": "java"
    }
   },
   "outputs": [],
   "source": [
    "public class Person {\n",
    "    String name;\n",
    "    int age;\n",
    "    int height;\n",
    "    String job;\n",
    "\n",
    "    public Person(String name, int age, int height, String job) {\n",
    "        this.name = name;\n",
    "        this.age = age;\n",
    "        this.height = height;\n",
    "        this.job = job;\n",
    "    }\n",
    "}\n",
    "\n",
    "public static void main(String[] args) {\n",
    "    Person person1 = new Person(\"Carl\", 25, 165, \"Construction Worker\");\n",
    "    Person person2 = new Person(\"Adam\", 29, 160, \"Truck Driver\");\n",
    "    Person person3 = person1;\n",
    "    int number = 16;\n",
    "    System.out.println(number);\n",
    "}\n",
    "main(null);"
   ]
  },
  {
   "cell_type": "markdown",
   "metadata": {},
   "source": [
    "(a) What kind of types are person1 and person2?<br>\n",
    "Answer: <mark>They are reference types because they are objects with values stored in the heap, while their place in the heap (references) are stored in the stack to be called.</mark>\n",
    "\n",
    "(b) Do person1 and person3 point to the same value in memory?<br>\n",
    "Answer: <mark>Yes. Because person1 is a reference type Object, when person3 is declared to represent person1, person3 references the same location in the heap containing person1's data.</mark>\n",
    "\n",
    "(c) Is the integer “number” stored in the heap or in the stack?<br>\n",
    "Answer: <mark>Because it's a primitive type integer, its value is stored directly in the stack.</mark>\n",
    "\n",
    "(d) Is the value that “person1” points to stored in the heap or in the stack?<br>\n",
    "Answer: <mark>The value that person1 points to is stored in the heap.</mark>"
   ]
  },
  {
   "cell_type": "markdown",
   "metadata": {},
   "source": [
    "### Part 2: FRQ"
   ]
  },
  {
   "cell_type": "markdown",
   "metadata": {},
   "source": [
    "(a) Define primitive types and reference types in Java. Provide examples of each.\n",
    "\n",
    "<mark>A reference type is a subclass of java.lang.Object that stores its data in the stack and a reference to said data in the heap to be called. Examples include custom-made POJO objects, Strings, and ArrayLists. Primitive types have their exact values directly stored in memory to be called and modified. Some examples include int, double, byte, char, etc.</mark>"
   ]
  },
  {
   "cell_type": "markdown",
   "metadata": {},
   "source": [
    "(b) Explain the differences between primitive types and reference types in terms of memory allocation and usage in Java programs.\n",
    "\n",
    "<mark>Primitive types store their values directly in memory, while reference types store references to values that are stored in the heap. Primitive types have a fixed size in memory depending on their specific type, while reference types can vary more because they aren't stored directly in the stack.</mark>"
   ]
  },
  {
   "cell_type": "markdown",
   "metadata": {},
   "source": [
    "(c) You have a method `calculateInterest` that takes a primitive `double` type representing the principal amount and a reference type `Customer` representing the customer information. Write the method signature and the method implementation. Include comments to explain your code."
   ]
  },
  {
   "cell_type": "code",
   "execution_count": 11,
   "metadata": {
    "vscode": {
     "languageId": "java"
    }
   },
   "outputs": [],
   "source": [
    "// this is the customer class used in the calculateInterest method\n",
    "public class Customer {\n",
    "    private String name; // (a) REFERENCE TYPE\n",
    "    private int creditScore; // (a) PRIMITIVE TYPE\n",
    "\n",
    "    public Customer(String name, int creditScore) {\n",
    "        this.name = name;\n",
    "        this.creditScore = creditScore;\n",
    "    }\n",
    "\n",
    "    public String getName() { // this is just used for good formatting, it isn't really necessary\n",
    "        return this.name;\n",
    "    }\n",
    "\n",
    "    public int getCreditScore() { // needed to calculate interest\n",
    "        return this.creditScore;\n",
    "    }\n",
    "}"
   ]
  },
  {
   "cell_type": "code",
   "execution_count": 20,
   "metadata": {
    "vscode": {
     "languageId": "java"
    }
   },
   "outputs": [
    {
     "name": "stdout",
     "output_type": "stream",
     "text": [
      "John Creditscore's interest was calculated to be 0.016.\n"
     ]
    }
   ],
   "source": [
    "public class Bank {\n",
    "    // the method is static so that it can be called within a static context\n",
    "    public static double calculateInterest(double principalAmount, Customer customer) {\n",
    "        // this double value is stored in the stack directly\n",
    "        double baseInterestRate = 0.2; // 20%\n",
    "        // this double value is stored in the stack directly\n",
    "        // in the process of calling customer.getCreditScore, the customer's location in the heap is referenced\n",
    "        // then, once the customer data is accessed, the creditScore primitive data is taken and used here\n",
    "        double creditScore = customer.getCreditScore(); // we will use this to calculate interest\n",
    "\n",
    "        // interest rate decreases by 0.005% for each 1 credit score, just for simplicity\n",
    "        double adjustedInterestRate = baseInterestRate - (creditScore * 0.00005);\n",
    "        \n",
    "        // interest is calculated based on the principal amount and the adjustedInterestRate calculated above\n",
    "        // it would normally be way more complicated than this, but this works for a simple demo\n",
    "        double interest = principalAmount * adjustedInterestRate;\n",
    "        \n",
    "        // the interest (a double primitive value) is returned\n",
    "        return interest;\n",
    "    }\n",
    "    // main method to demonstrate\n",
    "    public static void main(String[] args) {\n",
    "        Customer customer = new Customer(\"John Creditscore\", 800);\n",
    "        // principal amount was set to 1000 for a normal case\n",
    "        System.out.println(customer.getName() + \"'s interest was calculated to be \" + calculateInterest(0.1, customer) + \".\");\n",
    "    }\n",
    "}\n",
    "\n",
    "Bank.main(null);"
   ]
  },
  {
   "cell_type": "markdown",
   "metadata": {},
   "source": [
    "## Question 2: Iteration over 2D arrays (Unit 4)\n",
    "\n",
    "Situation: You are developing a game where you need to track player scores on a 2D grid representing levels and attempts."
   ]
  },
  {
   "cell_type": "markdown",
   "metadata": {},
   "source": [
    "(a) Explain the concept of iteration over a 2D array in Java. Provide an example scenario where iterating over a 2D array is useful in a programming task.\n",
    "\n",
    "<mark>Iterating over a 2D array in Java typically entails iterating through each row (or whatever is represented by the arrays within the encapsulating array), and then, within each row, iterating through each column. This can be done through various forms of loops, as shown below (using a 2D array of ints as an example):</mark>\n",
    "\n",
    "```java\n",
    "// using enhanced for loop\n",
    "for (int[] row : array2D) {\n",
    "    for (int column : row) {\n",
    "        // access column data here\n",
    "    }\n",
    "}\n",
    "```\n",
    "\n",
    "```java\n",
    "// using a standard for loop\n",
    "for (int r = 0; r < array2D.length; r++) {\n",
    "    for (int c = 0; c < array2D[r].length; c++) {\n",
    "        // access column data through indexes r (row) and c (column)\n",
    "    }\n",
    "}\n",
    "```\n",
    "\n",
    "<mark>These methods can be mixed to great effect, but overall, the enhanced for loop method is good for accessing each piece of data sequentially, while the standard for loop method is good for manipulating the accessed indexes in the 2D array.</mark>\n",
    "\n",
    "<mark>This is helpful to iterate through 2D arrays if data that is stored is being represented in a 2D model like a table, and all data in the table must be processed or modified in some way.</mark>"
   ]
  },
  {
   "cell_type": "markdown",
   "metadata": {},
   "source": [
    "(b) You need to implement a method `calculateTotalScore` that takes a 2D array `scores` of integers representing player scores and returns the sum of all the elements in the array. Write the method signature and the method implementation. Include comments to explain your code."
   ]
  },
  {
   "cell_type": "code",
   "execution_count": 26,
   "metadata": {
    "vscode": {
     "languageId": "java"
    }
   },
   "outputs": [
    {
     "name": "stdout",
     "output_type": "stream",
     "text": [
      "The sum of the players' scores is 98.\n"
     ]
    }
   ],
   "source": [
    "// this will be part of an overall game method class for use\n",
    "// that's probably how it should be implemented, since the score is supposed to be taken as an argument\n",
    "public class GameMethods {\n",
    "    // static method makes most sense here\n",
    "    public static int calculateTotalScore(int[][] scores) {\n",
    "        // initializing the sum at 0 to be added to\n",
    "        int sum = 0;\n",
    "        // iterating through each row with an enhanced for loop\n",
    "        for (int[] row : scores) {\n",
    "            // iterating through each column of the row\n",
    "            for (int column : row) {\n",
    "                // adding each score to the sum\n",
    "                sum += column;\n",
    "            }\n",
    "        }\n",
    "        // after all iteration is complete, I return the sum\n",
    "        return sum;\n",
    "    }\n",
    "    // main method to show functionality\n",
    "    public static void main(String[] args) {\n",
    "        int[][] playerScores = {\n",
    "            {3, 5, 2, 3, 4},\n",
    "            {3, 5, 6, 7, 2},\n",
    "            {12, 4, 5, 8, 1},\n",
    "            {3, 8, 4, 3, 10}\n",
    "        };\n",
    "        // manually calculated sum: 98 points\n",
    "        System.out.println(\"The sum of the players' scores is \" + calculateTotalScore(playerScores) + \".\");\n",
    "    }\n",
    "}\n",
    "\n",
    "GameMethods.main(null);"
   ]
  },
  {
   "cell_type": "markdown",
   "metadata": {},
   "source": [
    "## Question 3: ArrayList (Unit 6)\n",
    "\n",
    "Situation: You are developing a student management system where you need to store and analyze the grades of students in a class."
   ]
  },
  {
   "cell_type": "markdown",
   "metadata": {},
   "source": [
    "(a) Define an ArrayList in Java. Explain its significance and usefulness in programming.\n",
    "\n",
    "<mark>ArrayList is an object that acts as a form of Collection object, meaning it can store multiple pieces of data. Unlike a typical array, among other benefits, its length is mutable, meaning that the number of elements stored within it is dynamic. ArrayLists also come with a number of methods that can be used to interact with data, such as the .contains method.</mark>"
   ]
  },
  {
   "cell_type": "markdown",
   "metadata": {},
   "source": [
    "(b) You need to implement a method `calculateAverageGrade` that takes an array `grades` of integers representing student grades and returns the average of all the elements in the array. Write the method signature and the method implementation. Include comments to explain your code."
   ]
  },
  {
   "cell_type": "code",
   "execution_count": 25,
   "metadata": {
    "vscode": {
     "languageId": "java"
    }
   },
   "outputs": [
    {
     "name": "stdout",
     "output_type": "stream",
     "text": [
      "Test grades: 98 91 76 83 89 \n",
      "The average of the test grades is 87.4/100.\n"
     ]
    }
   ],
   "source": [
    "public class GradeCalculator {\n",
    "    // I had it take an ArrayList of Integer grades rather than just an array to fit the nature of this section\n",
    "    // it returns a double value because it would provide a more accurate average\n",
    "    public static double calculateAverageGrade(ArrayList<Integer> grades) {\n",
    "        // initializing an integer to represent their sum\n",
    "        int sum = 0;\n",
    "        // iterating through the grades and finding their sum\n",
    "        // I used this method to show the use of the .get() and .size() method\n",
    "        for (int i = 0; i < grades.size(); i++) {\n",
    "            sum += grades.get(i);\n",
    "        }\n",
    "        // dividing the sum by the size of the ArrayList to find the average\n",
    "        double average = (double) sum / grades.size();\n",
    "        return average;\n",
    "    }\n",
    "\n",
    "    public static void main(String[] args) {\n",
    "        ArrayList<Integer> testGrades = new ArrayList<Integer>();\n",
    "        // showing the use of the .add() method\n",
    "        testGrades.add(98);\n",
    "        testGrades.add(91);\n",
    "        testGrades.add(76);\n",
    "        testGrades.add(83);\n",
    "        testGrades.add(89);\n",
    "        // showing how an enhanced for loop can be used for ArrayLists\n",
    "        System.out.print(\"Test grades: \");\n",
    "        for (int grade : testGrades) {\n",
    "            System.out.print(grade + \" \");\n",
    "        }\n",
    "        System.out.println(\"\\nThe average of the test grades is \" + calculateAverageGrade(testGrades) + \"/100.\");\n",
    "    }\n",
    "}\n",
    "\n",
    "GradeCalculator.main(null);"
   ]
  },
  {
   "cell_type": "markdown",
   "metadata": {},
   "source": [
    "## Question 4: Math Class (Unit 2)\n",
    "\n",
    "Situation: You are developing a scientific calculator application where users need to perform various mathematical operations."
   ]
  },
  {
   "cell_type": "markdown",
   "metadata": {},
   "source": [
    "(a) Discuss the purpose and utility of the Math class in Java programming. Provide examples of at least three methods provided by the Math class and explain their usage.\n",
    "\n",
    "<mark>The Math class supplies many useful methods that can be utilized for easier access to mathematical functions. Some examples of Math class methods that are very useful include:</mark>\n",
    "\n",
    "- `Math.pow(double base, double exponent)` is used to calculate using an exponential value on a base. If you wanted to easily calculate 3 to the power of 5, you could call `Math.pow(3, 5)`\n",
    "- `Math.abs(double value)` is used to find the absolute value of a number, so `10` would be returned for `Math.abs(-10)`\n",
    "- `Math.sin(double radians)` and similar trigonometry methods can be used to calculate trig values for given radians. (This works well with the `Math.PI` value.)"
   ]
  },
  {
   "cell_type": "markdown",
   "metadata": {},
   "source": [
    "(b) You need to implement a method `calculateSquareRoot` that takes a `double` number as input and returns its square root using the Math class. Write the method signature and the method implementation. Include comments to explain your code."
   ]
  },
  {
   "cell_type": "code",
   "execution_count": 29,
   "metadata": {
    "vscode": {
     "languageId": "java"
    }
   },
   "outputs": [
    {
     "name": "stdout",
     "output_type": "stream",
     "text": [
      "Square root of 9: 3.0\n",
      "Square root of 64: 8.0\n"
     ]
    }
   ],
   "source": [
    "// i tested and i don't need to do this but i will for CB so I'll show this import\n",
    "import java.lang.Math;\n",
    "// very redundant but we'll use this class here for the method\n",
    "public class RootFinder {\n",
    "    // static method makes most sense again\n",
    "    public static double calculateSquareRoot(double number) {\n",
    "        // using the Math square root method from the Math class\n",
    "        return Math.sqrt(number);\n",
    "    }\n",
    "    // main method for showing functionality\n",
    "    public static void main(String[] args) {\n",
    "        System.out.println(\"Square root of 9: \" + calculateSquareRoot(9));\n",
    "        System.out.println(\"Square root of 64: \" + calculateSquareRoot(64));\n",
    "    }\n",
    "}\n",
    "\n",
    "RootFinder.main(null);"
   ]
  },
  {
   "cell_type": "markdown",
   "metadata": {},
   "source": [
    "## Question 5: If, While, Else (Unit 3-4)\n",
    "\n",
    "Situation: You are developing a simple grading system where you need to determine if a given score is passing or failing."
   ]
  },
  {
   "cell_type": "markdown",
   "metadata": {},
   "source": [
    "(a) Explain the roles and usage of the if statement, while loop, and else statement in Java programming. Provide examples illustrating each.\n"
   ]
  },
  {
   "cell_type": "markdown",
   "metadata": {},
   "source": [
    "(b) You need to implement a method `printGradeStatus` that takes an integer `score` as input and prints \"Pass\" if the score is greater than or equal to 60, and \"Fail\" otherwise. Write the method signature and the method implementation. Include comments to explain your code."
   ]
  },
  {
   "cell_type": "code",
   "execution_count": null,
   "metadata": {
    "vscode": {
     "languageId": "java"
    }
   },
   "outputs": [],
   "source": [
    "// code"
   ]
  }
 ],
 "metadata": {
  "kernelspec": {
   "display_name": "Java",
   "language": "java",
   "name": "java"
  },
  "language_info": {
   "codemirror_mode": "java",
   "file_extension": ".jshell",
   "mimetype": "text/x-java-source",
   "name": "Java",
   "pygments_lexer": "java",
   "version": "11.0.20.1+0"
  }
 },
 "nbformat": 4,
 "nbformat_minor": 2
}
