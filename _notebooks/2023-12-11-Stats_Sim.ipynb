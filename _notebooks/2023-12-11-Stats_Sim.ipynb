{
 "cells": [
  {
   "cell_type": "markdown",
   "metadata": {},
   "source": [
    "---\n",
    "title: Stats Sim Stuff\n",
    "description: Going over SQL and CRUD\n",
    "toc: true\n",
    "layout: post\n",
    "type: ccc\n",
    "courses: { csa: {week: 16} }\n",
    "---"
   ]
  },
  {
   "cell_type": "code",
   "execution_count": 2,
   "metadata": {
    "vscode": {
     "languageId": "java"
    }
   },
   "outputs": [
    {
     "name": "stdout",
     "output_type": "stream",
     "text": [
      "Inner Sample Proportion: 0.76\n",
      "Inner Sample Proportion: 0.78\n",
      "Inner Sample Proportion: 0.74\n",
      "Inner Sample Proportion: 0.88\n",
      "Inner Sample Proportion: 0.92\n",
      "Inner Sample Proportion: 0.76\n",
      "Inner Sample Proportion: 0.74\n",
      "Inner Sample Proportion: 0.78\n",
      "Inner Sample Proportion: 0.88\n",
      "Inner Sample Proportion: 0.76\n",
      "Inner Sample Proportion: 0.78\n",
      "Inner Sample Proportion: 0.68\n",
      "Inner Sample Proportion: 0.68\n",
      "Inner Sample Proportion: 0.82\n",
      "Inner Sample Proportion: 0.68\n",
      "Inner Sample Proportion: 0.72\n",
      "Inner Sample Proportion: 0.76\n",
      "Inner Sample Proportion: 0.84\n",
      "Inner Sample Proportion: 0.74\n",
      "Inner Sample Proportion: 0.84\n",
      "Inner Sample Proportion: 0.64\n",
      "Inner Sample Proportion: 0.78\n",
      "Inner Sample Proportion: 0.76\n",
      "Inner Sample Proportion: 0.76\n",
      "Inner Sample Proportion: 0.84\n",
      "Inner Sample Proportion: 0.9\n",
      "Inner Sample Proportion: 0.78\n",
      "Inner Sample Proportion: 0.8\n",
      "Inner Sample Proportion: 0.76\n",
      "Inner Sample Proportion: 0.78\n",
      "Inner Sample Proportion: 0.9\n",
      "Inner Sample Proportion: 0.76\n",
      "Inner Sample Proportion: 0.76\n",
      "Inner Sample Proportion: 0.74\n",
      "Inner Sample Proportion: 0.92\n",
      "Inner Sample Proportion: 0.9\n",
      "Inner Sample Proportion: 0.76\n",
      "Inner Sample Proportion: 0.84\n",
      "Inner Sample Proportion: 0.82\n",
      "Inner Sample Proportion: 0.9\n",
      "Inner Sample Proportion: 0.68\n",
      "Inner Sample Proportion: 0.72\n",
      "Inner Sample Proportion: 0.82\n",
      "Inner Sample Proportion: 0.74\n",
      "Inner Sample Proportion: 0.78\n",
      "Inner Sample Proportion: 0.86\n",
      "Inner Sample Proportion: 0.88\n",
      "Inner Sample Proportion: 0.84\n",
      "Inner Sample Proportion: 0.72\n",
      "Inner Sample Proportion: 0.78\n",
      "\n",
      "Overall Sample Proportion: 0.7892\n"
     ]
    }
   ],
   "source": [
    "import java.util.Random;\n",
    "\n",
    "public class FreeThrow {\n",
    "    public static void main(String[] args) {\n",
    "        int totalTrials = 50;\n",
    "        int innerTrials = 50;\n",
    "        int favorableOutcomes = 0;\n",
    "\n",
    "        Random random = new Random();\n",
    "\n",
    "        for (int i = 0; i < totalTrials; i++) {\n",
    "            int innerFavorableOutcomes = 0;\n",
    "\n",
    "            for (int j = 0; j < innerTrials; j++) {\n",
    "                int randomNumber = random.nextInt(10) + 1; // Generates a random number between 1 and 10\n",
    "\n",
    "                // Check if the outcome is in the range 1 through 8\n",
    "                if (randomNumber >= 1 && randomNumber <= 8) {\n",
    "                    innerFavorableOutcomes++;\n",
    "                }\n",
    "            }\n",
    "\n",
    "            double innerSampleProportion = (double) innerFavorableOutcomes / innerTrials;\n",
    "            System.out.println(\"Inner Sample Proportion: \" + innerSampleProportion);\n",
    "\n",
    "            // Accumulate the inner sample proportions\n",
    "            favorableOutcomes += innerFavorableOutcomes;\n",
    "        }\n",
    "\n",
    "        // Calculate the overall sample proportion\n",
    "        double sampleProportion = (double) favorableOutcomes / (totalTrials * innerTrials);\n",
    "        System.out.println(\"\\nOverall Sample Proportion: \" + sampleProportion);\n",
    "    }\n",
    "}\n",
    "\n",
    "FreeThrow.main(null);"
   ]
  }
 ],
 "metadata": {
  "kernelspec": {
   "display_name": "Java",
   "language": "java",
   "name": "java"
  },
  "language_info": {
   "codemirror_mode": "java",
   "file_extension": ".jshell",
   "mimetype": "text/x-java-source",
   "name": "Java",
   "pygments_lexer": "java",
   "version": "11.0.20.1+0"
  },
  "orig_nbformat": 4
 },
 "nbformat": 4,
 "nbformat_minor": 2
}
