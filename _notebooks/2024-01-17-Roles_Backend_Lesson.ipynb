{
 "cells": [
  {
   "cell_type": "markdown",
   "metadata": {},
   "source": [
    "---\n",
    "title: Roles Backend Lesson Portion\n",
    "description: Lesson portion from Period 1.\n",
    "toc: true\n",
    "layout: post\n",
    "type: tangible\n",
    "courses: { csa: {week: 19} }\n",
    "---"
   ]
  },
  {
   "cell_type": "markdown",
   "metadata": {},
   "source": [
    "### Lesson Materials\n",
    "\n",
    "Our lesson uses backend code from [this repository](). If you want to follow along in this lesson, please git clone with the line below and run Main.java to use localhost:\n",
    "\n",
    "`git clone https://github.com/John-sCC/Roles_BE.git`\n",
    "\n",
    "## Person and PersonRole Relationship\n",
    "\n",
    "### Person Object\n",
    "\n",
    "(See [Person.java](https://github.com/John-sCC/Roles_BE/blob/master/src/main/java/com/nighthawk/spring_portfolio/mvc/person/Person.java))\n",
    "\n",
    "The `Person` object is a POJO, which stands for \"Plain Old Java Object.\" Essentially, it's a Java object with no special restrictions or requirements. It contains business logic and data for modeling entities.\n",
    "\n",
    "Of the attributes of the object `Person`, one is `roles`, which is a Collection of `PersonRole` objects. These are the roles that we go over in this lesson."
   ]
  },
  {
   "cell_type": "code",
   "execution_count": null,
   "metadata": {},
   "outputs": [],
   "source": [
    "// FULLY IMPLEMENTED!\n",
    "@ManyToMany(fetch = EAGER)\n",
    "private Collection<PersonRole> roles = new ArrayList<>();"
   ]
  },
  {
   "cell_type": "markdown",
   "metadata": {},
   "source": [
    "As a quick recap of SQL concepts:\n",
    "- `@ManyToMany` establishes that Person and PersonRole have a Many-to-Many relationship with each other (the same role can be assigned to many Person objects, and multiple Person object can be assigned to many roles).\n",
    "- `fetch = EAGER` establishes that, when a Person object is fetched, its roles should be fetched immediately at the same time. If it was instead `fetch = LAZY`, the PersonRole objects would only be fetched explicity, separate from the Person object.\n",
    "\n",
    "### PersonRole Object\n",
    "\n",
    "(See [PersonRole.java](https://github.com/John-sCC/Roles_BE/blob/master/src/main/java/com/nighthawk/spring_portfolio/mvc/person/PersonRole.java))\n",
    "\n",
    "The `PersonRole` object is another POJO with its own entities separate from the `Person` object. They are assigned to each other. In preparation for the lesson, we added an argument constructor and an initializer method."
   ]
  },
  {
   "cell_type": "code",
   "execution_count": null,
   "metadata": {},
   "outputs": [],
   "source": [
    "public class PersonRole {\n",
    "    @Id\n",
    "    @GeneratedValue(strategy = GenerationType.AUTO)\n",
    "    private Long id;\n",
    "\n",
    "    @Column(unique=true)\n",
    "    private String name;\n",
    "\n",
    "    public PersonRole(String name) {\n",
    "        this.name = name;\n",
    "    }\n",
    "\n",
    "    public static PersonRole[] init() {\n",
    "        PersonRole student = new PersonRole(\"ROLE_STUDENT\");\n",
    "        PersonRole teacher = new PersonRole(\"ROLE_TEACHER\");\n",
    "        PersonRole admin = new PersonRole(\"ROLE_ADMIN\");\n",
    "        PersonRole[] initArray = {student, teacher, admin};\n",
    "        return initArray;\n",
    "    }\n",
    "}"
   ]
  },
  {
   "cell_type": "markdown",
   "metadata": {},
   "source": [
    "### Initializing PersonRole\n",
    "\n",
    "Now that we have an initializer for the `PersonRole` object, we add it to the `ModelInit.java` file as shown below. (Modified slightly to emphasize roles.)"
   ]
  },
  {
   "cell_type": "code",
   "execution_count": null,
   "metadata": {},
   "outputs": [],
   "source": [
    "public class ModelInit {  \n",
    "    // ...declarations...\n",
    "    @Autowired PersonRoleJpaRepository roleRepo;\n",
    "\n",
    "    @Bean\n",
    "    CommandLineRunner run() {  // runs when the application starts\n",
    "        return args -> {\n",
    "            // ...jokes...\n",
    "\n",
    "            // initializing person roles\n",
    "            PersonRole[] personRoles = PersonRole.init();\n",
    "            for (PersonRole role : personRoles) {\n",
    "                PersonRole existingRole = roleRepo.findByName(role.getName());\n",
    "                if (existingRole != null) {\n",
    "                    // role already exists\n",
    "                    continue;\n",
    "                } else {\n",
    "                    // role doesn't exist\n",
    "                    roleRepo.save(role);\n",
    "                }\n",
    "            }\n",
    "\n",
    "            // initializing person objects\n",
    "            Person[] personArray = Person.init();\n",
    "            for (Person person : personArray) {\n",
    "                //findByNameContainingIgnoreCaseOrEmailContainingIgnoreCase\n",
    "                List<Person> personFound = personService.list(person.getName(), person.getEmail());  // lookup\n",
    "                if (personFound.size() == 0) {\n",
    "                    personService.save(person);  // save\n",
    "                    // ...notes...\n",
    "                    // adding the student role to each initial person\n",
    "                    personService.addRoleToPerson(person.getEmail(), \"ROLE_STUDENT\");\n",
    "                }\n",
    "            }\n",
    "            // for lesson demonstration: giving admin role to Mortensen\n",
    "            personService.addRoleToPerson(personArray[4].getEmail(), \"ROLE_ADMIN\");\n",
    "        };\n",
    "    }\n",
    "}"
   ]
  },
  {
   "cell_type": "markdown",
   "metadata": {},
   "source": [
    "The code is written so that, if the SQL database has been emptied, the roles will be recreated, but if it hasn't been, they won't be created a second time, which would cause an error (since the names would be repeats).\n",
    "\n",
    "We gave one of the test Person objects, \"John Mortensen,\" the \"ROLE_ADMIN\" role. This will be used in conjunction with roles-based security.\n",
    "\n",
    "### Viewing Person and PersonRole in SQL\n",
    "\n",
    "Now that the roles have been created and assigned, they can be viewed in the SQL table in two different ways that offer different information.\n",
    "\n",
    "If you open the sqlite.db and look at the \"person_role\" table, you'll see something like this:\n",
    "\n"
   ]
  },
  {
   "cell_type": "markdown",
   "metadata": {},
   "source": [
    "## Using Roles for Security"
   ]
  },
  {
   "cell_type": "markdown",
   "metadata": {},
   "source": [
    "## Frontend Application\n",
    "\n",
    "### MVC on Localhost\n",
    "\n",
    "### Login on Blog\n",
    "\n",
    "## JWT"
   ]
  }
 ],
 "metadata": {
  "kernelspec": {
   "display_name": "Java",
   "language": "java",
   "name": "java"
  },
  "language_info": {
   "name": "java"
  },
  "orig_nbformat": 4
 },
 "nbformat": 4,
 "nbformat_minor": 2
}
