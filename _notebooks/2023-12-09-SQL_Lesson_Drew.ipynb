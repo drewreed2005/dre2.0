{
 "cells": [
  {
   "cell_type": "markdown",
   "metadata": {},
   "source": [
    "---\n",
    "title: Drew's SQL Lesson Section\n",
    "description: Going over SQL and CRUD\n",
    "toc: true\n",
    "layout: post\n",
    "type: code\n",
    "courses: { csa: {week: 16} }\n",
    "---"
   ]
  },
  {
   "cell_type": "markdown",
   "metadata": {},
   "source": [
    "Testing"
   ]
  },
  {
   "cell_type": "code",
   "execution_count": 25,
   "metadata": {},
   "outputs": [
    {
     "data": {
      "text/plain": [
       "/Users/mister_dew/Library/Jupyter/kernels/java/ijava-1.3.0.jar:_notebooks/ojdbc11.jar:/Users/mister_dew/vscode/dre2.0/_notebooks/h2-2.2.224.jar"
      ]
     },
     "execution_count": 25,
     "metadata": {},
     "output_type": "execute_result"
    }
   ],
   "source": [
    "System.setProperty(\"java.class.path\", System.getProperty(\"java.class.path\") + \":/Users/mister_dew/vscode/dre2.0/_notebooks/h2-2.2.224.jar\");"
   ]
  },
  {
   "cell_type": "code",
   "execution_count": 27,
   "metadata": {},
   "outputs": [
    {
     "name": "stderr",
     "output_type": "stream",
     "text": [
      "java.lang.ClassNotFoundException: org.h2.Driver\n",
      "\tat java.base/java.net.URLClassLoader.findClass(URLClassLoader.java:476)\n",
      "\tat jdk.jshell/jdk.jshell.execution.DefaultLoaderDelegate$RemoteClassLoader.findClass(DefaultLoaderDelegate.java:154)\n",
      "\tat java.base/java.lang.ClassLoader.loadClass(ClassLoader.java:594)\n",
      "\tat java.base/java.lang.ClassLoader.loadClass(ClassLoader.java:527)\n",
      "\tat java.base/java.lang.Class.forName0(Native Method)\n",
      "\tat java.base/java.lang.Class.forName(Class.java:315)\n",
      "\tat REPL.$JShell$69$CreateH2Database.main($JShell$69.java:25)\n",
      "\tat REPL.$JShell$70.do_it$($JShell$70.java:21)\n",
      "\tat java.base/jdk.internal.reflect.NativeMethodAccessorImpl.invoke0(Native Method)\n",
      "\tat java.base/jdk.internal.reflect.NativeMethodAccessorImpl.invoke(NativeMethodAccessorImpl.java:62)\n",
      "\tat java.base/jdk.internal.reflect.DelegatingMethodAccessorImpl.invoke(DelegatingMethodAccessorImpl.java:43)\n",
      "\tat java.base/java.lang.reflect.Method.invoke(Method.java:566)\n",
      "\tat io.github.spencerpark.ijava.execution.IJavaExecutionControl.lambda$execute$1(IJavaExecutionControl.java:95)\n",
      "\tat java.base/java.util.concurrent.FutureTask.run(FutureTask.java:264)\n",
      "\tat java.base/java.util.concurrent.ThreadPoolExecutor.runWorker(ThreadPoolExecutor.java:1128)\n",
      "\tat java.base/java.util.concurrent.ThreadPoolExecutor$Worker.run(ThreadPoolExecutor.java:628)\n",
      "\tat java.base/java.lang.Thread.run(Thread.java:829)\n"
     ]
    }
   ],
   "source": [
    "import java.sql.Connection;\n",
    "import java.sql.DriverManager;\n",
    "import java.sql.Statement;\n",
    "\n",
    "public class CreateH2Database {\n",
    "    public static void main(String[] args) {\n",
    "        // Load the H2 Database JDBC driver\n",
    "        try {\n",
    "            Class.forName(\"org.h2.Driver\");\n",
    "        } catch (ClassNotFoundException e) {\n",
    "            e.printStackTrace();\n",
    "            return;\n",
    "        }\n",
    "\n",
    "        // Define the path to the H2 Database file\n",
    "        String dbPath = \"./volumes/sqlite.db\";\n",
    "\n",
    "        // JDBC URL for H2 Database connection\n",
    "        String url = \"jdbc:h2:\" + dbPath;\n",
    "\n",
    "        try (Connection connection = DriverManager.getConnection(url);\n",
    "             Statement statement = connection.createStatement()) {\n",
    "\n",
    "            // SQL statement to create a table (you can modify this as needed)\n",
    "            String createTableSQL = \"CREATE TABLE IF NOT EXISTS example_table (\" +\n",
    "                    \"id INTEGER PRIMARY KEY AUTO_INCREMENT,\" +\n",
    "                    \"name VARCHAR(255) NOT NULL,\" +\n",
    "                    \"age INTEGER);\";\n",
    "\n",
    "            // Execute the SQL statement\n",
    "            statement.execute(createTableSQL);\n",
    "\n",
    "            System.out.println(\"Database and table created successfully.\");\n",
    "\n",
    "        } catch (Exception e) {\n",
    "            e.printStackTrace();\n",
    "        }\n",
    "    }\n",
    "}\n",
    "\n",
    "CreateH2Database.main(null);"
   ]
  }
 ],
 "metadata": {
  "kernelspec": {
   "display_name": "Java",
   "language": "java",
   "name": "java"
  },
  "language_info": {
   "codemirror_mode": "java",
   "file_extension": ".jshell",
   "mimetype": "text/x-java-source",
   "name": "java",
   "pygments_lexer": "java",
   "version": "11.0.20.1+0"
  },
  "orig_nbformat": 4
 },
 "nbformat": 4,
 "nbformat_minor": 2
}
