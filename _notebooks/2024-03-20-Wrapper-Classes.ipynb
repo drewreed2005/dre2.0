{
 "cells": [
  {
   "cell_type": "markdown",
   "metadata": {},
   "source": [
    "---\n",
    "layout: post\n",
    "title: Wrapper Classes\n",
    "description: Wrapper Classes Lesson\n",
    "courses: { csa: {week: 27} }\n",
    "type: code\n",
    "---"
   ]
  },
  {
   "cell_type": "markdown",
   "metadata": {},
   "source": [
    "# Lesson on Java Wrapper Classes\n",
    "\n",
    "## Introduction\n",
    "- Java's primitive data types are efficient but not as flexible as objects.\n",
    "- Wrapper classes turn primitive data types into objects.\n",
    "- Part of `java.lang` package, automatically imported.\n",
    "\n",
    "\n",
    "## What Are Wrapper Classes?\n",
    "his is crucial in Java because it allows primitives to be used in contexts that require objects, like ArrayLists.\n",
    "- Each primitive data type in Java has a corresponding wrapper class. \n",
    "- Provide object versions of eight primitive types.\n",
    "- Enable primitives to be used in object-required scenarios, like collections.\n",
    "\n",
    "### Primitive Types and Their Wrappers\n",
    "- `byte` → `Byte`\n",
    "- `short` → `Short`\n",
    "- `int` → `?`\n",
    "- `long` → `Long`\n",
    "- `float` → `Float`\n",
    "- `double` → `?`\n",
    "- `char` → `Character`\n",
    "- `boolean` → `Boolean`\n",
    "\n",
    "Popcorn Hack: Fill out the above.\n",
    "\n",
    "# Why Use Wrapper Classes? \n",
    "- Collections Framework: The Collections Framework in Java works with objects, not primitive types. To store, for example, integers in an ArrayList, you need to use the Integer wrapper class.\n",
    "\n",
    "- Utilities: Wrapper classes provide useful methods. For instance, you can convert strings to integers or check the size of an integer or character.\n",
    "\n",
    "- Null Value Support: Primitive types cannot be null, but their wrapper classes can be. This is useful when you need a way to represent the absence of a value.\n",
    "\n",
    "## Creating Wrapper Objects\n",
    "1. **Constructor Method** (Older, less preferred method)\n",
    "   - `Integer myInt = new Integer(5);`\n",
    "   - `Double myDouble = new Double(4.5);`\n",
    "2. **valueOf() Method** (Preferred method)\n",
    "   - `Integer myInt = Integer.valueOf(5);`\n",
    "   - `Double myDouble = Double.valueOf(4.5);`\n",
    "\n",
    "## Autoboxing and Unboxing\n",
    "- **Autoboxing**: Automatic conversion from primitive to wrapper.\n",
    "  - `Integer myInt = 5;`\n",
    "- **Unboxing**: Automatic conversion from wrapper to primitive.\n",
    "  - `int myPrimitiveInt = myInt;`\n",
    "\n",
    "## Utility Methods\n",
    "- **Parsing Strings**: `int num = Integer.parseInt(\"123\");`\n",
    "- **Converting to Strings**: `String str = myInt.toString();`\n",
    "- **Comparing Values**: `int comparison = Integer.compare(5, 10);`\n",
    "\n",
    "## Example Code Snippets\n",
    "### Autoboxing and Unboxing\n",
    "```java\n",
    "Integer autoBoxedInt = 15; // Autoboxing\n",
    "int unboxedInt = autoBoxedInt; // Unboxing\n",
    "```\n",
    "\n",
    "### Using Utility Methods\n",
    "```java\n",
    "int parsedInt = Integer.parseInt(\"20\");\n",
    "String intString = Integer.toString(10);\n",
    "int comparisonResult = Integer.compare(5, 10);\n",
    "```\n",
    "\n",
    "### Practical Example"
   ]
  },
  {
   "cell_type": "code",
   "execution_count": 1,
   "metadata": {
    "vscode": {
     "languageId": "java"
    }
   },
   "outputs": [
    {
     "name": "stdout",
     "output_type": "stream",
     "text": [
      "Parsed Integer from String: 20\n",
      "Integer to String: 10\n"
     ]
    }
   ],
   "source": [
    "public class WrapperDemo {\n",
    "    public static void main(String[] args) {\n",
    "        // Creating Wrapper Objects\n",
    "        Integer myInt = Integer.valueOf(10);\n",
    "        Double myDouble = Double.valueOf(5.5);\n",
    "\n",
    "        // Demonstrating Autoboxing\n",
    "        Integer autoBoxedInt = 15;\n",
    "        \n",
    "        // Demonstrating Unboxing\n",
    "        int unboxedInt = autoBoxedInt;\n",
    "        \n",
    "        // Using Utility Methods\n",
    "        int parsedInt = Integer.parseInt(\"20\");\n",
    "        String intString = myInt.toString();\n",
    "        \n",
    "        // Displaying Results\n",
    "        System.out.println(\"Parsed Integer from String: \" + parsedInt);\n",
    "        System.out.println(\"Integer to String: \" + intString);\n",
    "    }\n",
    "}\n",
    "\n",
    "WrapperDemo.main(null);"
   ]
  },
  {
   "cell_type": "markdown",
   "metadata": {},
   "source": [
    "<h1>Example FRQ (2015 FRQ 2 ADAPTED)</h1>"
   ]
  },
  {
   "cell_type": "markdown",
   "metadata": {},
   "source": [
    "You are given a Java class called HiddenWord, which represents a hidden word puzzle game. Your task is to modify the HiddenWord class to include a method that returns the length of the hidden word as an instance of a wrapper class called WordLength. Provide comments throughout your code to ensure understanding of wrapper classes and their implementation in the HiddenWord class."
   ]
  },
  {
   "cell_type": "markdown",
   "metadata": {},
   "source": [
    "**SOLUTION**"
   ]
  },
  {
   "cell_type": "code",
   "execution_count": null,
   "metadata": {
    "vscode": {
     "languageId": "java"
    }
   },
   "outputs": [],
   "source": [
    "public class HiddenWord {\n",
    "    private String word;\n",
    "    private Integer length; // Using Integer wrapper class to store the length\n",
    "\n",
    "    // Constructor to initialize the hidden word and its length\n",
    "    public HiddenWord(String hWord) {\n",
    "        word = hWord;\n",
    "        length = hWord.length(); // Storing the length using the Integer wrapper class\n",
    "    }\n",
    "\n",
    "    // Method to retrieve the length of the word\n",
    "    public Integer getLength() {\n",
    "        return length;\n",
    "    }\n",
    "\n",
    "}\n"
   ]
  },
  {
   "cell_type": "markdown",
   "metadata": {},
   "source": [
    "<h1>Common Tips & Tricks for Classes FRQ</h1>"
   ]
  },
  {
   "cell_type": "markdown",
   "metadata": {},
   "source": [
    "1. Make sure to use all the names for the methods and classes that are given to you on the exam. This is a basic layup point, and not following instructions can cause you to lose easy points. Read the question as carefully as possible!"
   ]
  },
  {
   "cell_type": "markdown",
   "metadata": {},
   "source": [
    "2. The classes FRQ is always going to have the same structure - class, private instance variables, constructors, and accessing that instance variable. Then, there will be the algorithm that needs to be implemented, which you can likely figure out from the problem and code blobs it provides for you."
   ]
  },
  {
   "cell_type": "markdown",
   "metadata": {},
   "source": [
    "3. It is likely that Java wrapper classes are not going to be explicitly tested upon in the FRQs. However, you should remember the common wrapper classes - integer, double, boolean, character, etc. Furthermore, make sure that you don't unnecessarily use autoboxing/unboxing. You want your code to be as efficient and as object-oriented as possible, so make sure you are only autoboxing when you need to.\n"
   ]
  },
  {
   "cell_type": "markdown",
   "metadata": {},
   "source": [
    "<h1>HACKS</h1>"
   ]
  },
  {
   "cell_type": "markdown",
   "metadata": {},
   "source": [
    "(a) Provide a brief summary of what a wrapper class is and provide a small code block showing a basic example of a wrapper class.\n",
    "\n",
    "<mark>A wrapper class is a class that \"wraps\" a primitive data type within an object. This lets you use primitives as objects, which allows for additional functionality like methods, constructors, and compatibility with collections like ArrayLists. Wrapper classes are especially useful in scenarios where objects are required instead of primitives. An example of that kind of scenario can be seen in the code block below:</mark>"
   ]
  },
  {
   "cell_type": "code",
   "execution_count": 2,
   "metadata": {
    "vscode": {
     "languageId": "java"
    }
   },
   "outputs": [
    {
     "name": "stdout",
     "output_type": "stream",
     "text": [
      "Integers in ArrayList:\n",
      "\t10\n",
      "\t20\n"
     ]
    }
   ],
   "source": [
    "public class Main {\n",
    "    public static void main(String[] args) {\n",
    "        // an ArrayList is a collection type taht requires an object type\n",
    "        ArrayList<Integer> numbers = new ArrayList<>();\n",
    "\n",
    "        // int value to be added to the Integer arraylist\n",
    "        int intValue1 = 10;\n",
    "        Integer integerValue1 = intValue1; // autoboxing: int to Integer\n",
    "        numbers.add(integerValue1);\n",
    "\n",
    "        Integer intValue2 = 20; // directly defining the int as the object Integer\n",
    "        numbers.add(intValue2);\n",
    "\n",
    "        // printing the arraylist\n",
    "        System.out.println(\"Integers in ArrayList:\");\n",
    "        for (Integer number : numbers) {\n",
    "            System.out.println(\"\\t\" + number);\n",
    "        }\n",
    "    }\n",
    "}\n",
    "\n",
    "Main.main(null);"
   ]
  },
  {
   "cell_type": "markdown",
   "metadata": {},
   "source": [
    "(b) Create a Java wrapper class called Temperature to represent temperatures in Celsius. Your Temperature class should have the following features:\n",
    "\n",
    "Fields:\n",
    "\n",
    "A private double field to store the temperature value in Celsius.\n",
    "\n",
    "\n",
    "Constructor:\n",
    "\n",
    "A constructor that takes a double value representing the temperature in Celsius and initializes the field.\n",
    "\n",
    "\n",
    "Methods:\n",
    "\n",
    "- getTemperature(): A method that returns the temperature value in Celsius.\n",
    "- setTemperature(double value): A method that sets a new temperature value in Celsius.\n",
    "- toFahrenheit(): A method that converts the temperature from Celsius to Fahrenheit and returns the result as a double value. "
   ]
  },
  {
   "cell_type": "code",
   "execution_count": 4,
   "metadata": {
    "vscode": {
     "languageId": "java"
    }
   },
   "outputs": [
    {
     "name": "stdout",
     "output_type": "stream",
     "text": [
      "Current temperature (in degrees C): 32.8\n",
      "Temperature after using setter (in degrees C): 33.7\n",
      "New temperature converted to degrees F: 92.66\n"
     ]
    }
   ],
   "source": [
    "public class Temperature {\n",
    "    // single double attribute in Celcius (C)\n",
    "    private double tempInC;\n",
    "\n",
    "    // constructor that takes the temp and initializes\n",
    "    public Temperature(double tempInC) {\n",
    "        this.tempInC = tempInC;\n",
    "    }\n",
    "\n",
    "    // specified getter method that returns temp\n",
    "    public double getTemperature() {\n",
    "        return this.tempInC;\n",
    "    }\n",
    "\n",
    "    // specified setter method that sets its temp in celcius\n",
    "    public void setTemperature(double value) {\n",
    "        this.tempInC = value;\n",
    "    }\n",
    "\n",
    "    // unique method: converts celcius to farenheit\n",
    "    // this is a good example of how this object would wrap a double well\n",
    "    // providing access to unique functionality\n",
    "    public double toFahrenheit() {\n",
    "        // Celsius to Fahrenheit formula: (C × 9/5) + 32\n",
    "        double tempInF = (this.tempInC * 9 / 5) + 32;\n",
    "        return tempInF;\n",
    "    }\n",
    "\n",
    "    // main method for functionality\n",
    "    public static void main(String[] args) {\n",
    "        // creating temperature instance\n",
    "        Temperature testTemperature = new Temperature(32.8);\n",
    "        // using getter and setter\n",
    "        System.out.println(\"Current temperature (in degrees C): \" + testTemperature.getTemperature());\n",
    "        testTemperature.setTemperature(33.7);\n",
    "        System.out.println(\"Temperature after using setter (in degrees C): \" + testTemperature.getTemperature());\n",
    "        // using the fahrenheit converter\n",
    "        System.out.println(\"New temperature converted to degrees F: \" + testTemperature.toFahrenheit());\n",
    "    }\n",
    "}\n",
    "\n",
    "Temperature.main(null);"
   ]
  }
 ],
 "metadata": {
  "kernelspec": {
   "display_name": "Java",
   "language": "java",
   "name": "java"
  },
  "language_info": {
   "codemirror_mode": "java",
   "file_extension": ".jshell",
   "mimetype": "text/x-java-source",
   "name": "Java",
   "pygments_lexer": "java",
   "version": "11.0.20.1+0"
  }
 },
 "nbformat": 4,
 "nbformat_minor": 2
}
