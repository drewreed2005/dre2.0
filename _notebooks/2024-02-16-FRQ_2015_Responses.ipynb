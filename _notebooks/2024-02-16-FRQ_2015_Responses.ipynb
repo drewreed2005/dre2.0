{
 "cells": [
  {
   "cell_type": "markdown",
   "metadata": {},
   "source": [
    "---\n",
    "toc: true\n",
    "comments: true\n",
    "layout: notebook\n",
    "title: FRQ 2015 In-Depth Responses\n",
    "description: An in-depth display of and reflection on each of the 2015 FRQ questions.\n",
    "type: hacks\n",
    "courses: { csa: {week: 24} }\n",
    "---"
   ]
  },
  {
   "cell_type": "code",
   "execution_count": 2,
   "metadata": {
    "vscode": {
     "languageId": "java"
    }
   },
   "outputs": [
    {
     "name": "stdout",
     "output_type": "stream",
     "text": [
      "true\n",
      "false\n"
     ]
    }
   ],
   "source": [
    "public class DiverseArray {\n",
    "    // Method from (a): returns the sum of the entries in the one-dimensional array arr.\n",
    "    public static int arraySum(int[] arr) {\n",
    "        int sum = 0;\n",
    "        for (int i : arr) sum += i;\n",
    "        return sum;\n",
    "    }\n",
    "\n",
    "    // Method from (b): returns a one-dimensional array in which the entry at index k is the sum of the entries of row k of the two-dimensional array arr2D.\n",
    "    public static int[] rowSums(int[][] arr2D) {\n",
    "        int[] output = new int[arr2D.length];\n",
    "        for (int i = 0; i < arr2D.length; i++) {\n",
    "            output[i] = arraySum(arr2D[i]);\n",
    "        }\n",
    "        return output;\n",
    "    }\n",
    "\n",
    "    // Method from (c): returns true if all rows in arr2D have different row sums; false otherwise.\n",
    "    public static boolean isDiverse(int[][] arr2D) {\n",
    "        int[] arr2DSums = rowSums(arr2D);\n",
    "        Set<Integer> set = new HashSet<>(); // to store unique elements\n",
    "        for (int sum : arr2DSums) {\n",
    "            if (set.contains(sum)) {\n",
    "                return false;\n",
    "            } else {\n",
    "                set.add(sum);\n",
    "            }\n",
    "        }\n",
    "        return true;\n",
    "    }\n",
    "\n",
    "    public static void main(String[] args) {\n",
    "        int[][] diverse2DArr = {\n",
    "            {2, 3, 5, 6},\n",
    "            {5, 9, 2, 4},\n",
    "            {9, 9, 8, 4},\n",
    "            {1, 4, 3, 2}\n",
    "        };\n",
    "        int[][] nonDiverse2DArr = {\n",
    "            {2, 3, 5, 6},\n",
    "            {5, 9, 2, 4},\n",
    "            {9, 9, 8, 4},\n",
    "            {3, 2, 6, 5}\n",
    "        };\n",
    "\n",
    "        System.out.println(isDiverse(diverse2DArr));\n",
    "        System.out.println(isDiverse(nonDiverse2DArr));\n",
    "    }\n",
    "}\n",
    "\n",
    "DiverseArray.main(null);"
   ]
  }
 ],
 "metadata": {
  "kernelspec": {
   "display_name": "Java",
   "language": "java",
   "name": "java"
  },
  "language_info": {
   "codemirror_mode": "java",
   "file_extension": ".jshell",
   "mimetype": "text/x-java-source",
   "name": "Java",
   "pygments_lexer": "java",
   "version": "11.0.20.1+0"
  },
  "orig_nbformat": 4
 },
 "nbformat": 4,
 "nbformat_minor": 2
}
