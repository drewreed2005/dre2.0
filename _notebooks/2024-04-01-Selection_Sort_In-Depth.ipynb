{
 "cells": [
  {
   "cell_type": "markdown",
   "metadata": {},
   "source": [
    "---\n",
    "title: Custom LinkedList and In-Depth Selection Sort Implementation\n",
    "description: Doing some more difficult implementation with Selection Sort to show mastery.\n",
    "toc: true\n",
    "layout: post\n",
    "courses: { csa: {week: 29} }\n",
    "type: code\n",
    "comments: true\n",
    "---"
   ]
  },
  {
   "cell_type": "markdown",
   "metadata": {},
   "source": [
    "## My Custom Linked List Class\n",
    "\n",
    "I implemented a custom LinkedList class below with the help of people on StackOverflow and of ChatGPT to explain exactly how it works. I left comments throughout to explain exactly what I was doing and how it was done\n",
    "\n",
    "### Selection Sort Implementation\n",
    "\n",
    "Selection Sort ended up working essentially the same as when implemented with an Array. Step-by-step:\n",
    "\n",
    "- I defined the current node as the head after determining that there was more than one item in the LinkedList\n",
    "- For each item in the LinkedList:\n",
    "    - I set the minimum to the current node\n",
    "    - I jump using the Node's .next to each linked Node, checking if it's less than the current minimum\n",
    "        - If less than current minimum, the minimum is replaced\n",
    "    - If applicable, the recorded minimum is swapped with the \"current\" node\n",
    "    - The \"current\" node is adjusted to its .next, as all previous have already been sorted\n",
    "- This is repeated until the LinkedList has been fully sorted"
   ]
  },
  {
   "cell_type": "code",
   "execution_count": 28,
   "metadata": {
    "vscode": {
     "languageId": "java"
    }
   },
   "outputs": [
    {
     "name": "stdout",
     "output_type": "stream",
     "text": [
      "Original list: [5, 3, 8, 1]\n",
      "Sorted list: [1, 3, 5, 8]\n",
      "JSON representation: {\"1\", \"3\", \"5\", \"8\"}\n"
     ]
    }
   ],
   "source": [
    "// defining a LinkedList class that can hold elements (T)\n",
    "// ChatGPT: \"T can be any data type that extends Comparable\"\n",
    "public class LinkedList<T extends Comparable<T>> {\n",
    "    // Node class represents individual list elements\n",
    "    private static class Node<T> {\n",
    "        T data; // the element's actual data\n",
    "        Node<T> next; // referencing (linking to *winky face*) to the next node in the list\n",
    "\n",
    "        // constructor to create a node with given data\n",
    "        Node(T data) {\n",
    "            this.data = data;\n",
    "            this.next = null; // no next node exists initially\n",
    "        }\n",
    "    }\n",
    "\n",
    "    private Node<T> head; // references the first node in the list\n",
    "    private int size; // represents the size/length of the list\n",
    "\n",
    "    // constructor to initialize the LinkedList\n",
    "    public LinkedList() {\n",
    "        head = null; // it's empty at first, so there's NOTHING\n",
    "        size = 0; // the size starts out as 0, as there is NOTHING\n",
    "    }\n",
    "\n",
    "    // like .add() for ArrayList, this adds an element to the end of the list\n",
    "    public void add(T element) {\n",
    "        if (head == null) {\n",
    "            head = new Node<>(element); // if the list is empty, this creates the first node\n",
    "            // when I gave my concept, chatGPT said to add this condition here, credit <-\n",
    "        } else {\n",
    "            Node<T> current = head;\n",
    "            while (current.next != null) {\n",
    "                current = current.next; // using a while loop to approach the last node\n",
    "            }\n",
    "            current.next = new Node<>(element); // adding the new node at the end\n",
    "        }\n",
    "        size++; // increasing size of the list\n",
    "    }\n",
    "\n",
    "    // HERE'S MY CUSTOM SELECTION SORT\n",
    "    public void selectionSort() {\n",
    "        if (head == null || head.next == null) {\n",
    "            return; // if the list is empty or has only one element, it's already sorted\n",
    "            // again, this is an inclusion courtesy of ChatGPT and its incredible forethought\n",
    "        }\n",
    "        Node<T> current = head;\n",
    "        while (current != null) {\n",
    "            Node<T> min = current;\n",
    "            Node<T> temp = current.next;\n",
    "            while (temp != null) {\n",
    "                if (temp.data.compareTo(min.data) < 0) {\n",
    "                    min = temp; // finding the minimum element\n",
    "                }\n",
    "                temp = temp.next;\n",
    "            }\n",
    "            T tmpData = current.data; // swapping the current unsorted place with the minimum\n",
    "            current.data = min.data;\n",
    "            min.data = tmpData;\n",
    "            current = current.next; // moving to the next element\n",
    "        }\n",
    "    }\n",
    "\n",
    "    // this method overrides toString\n",
    "    // it's used for printing the list\n",
    "    // this was my reference: https://stackoverflow.com/questions/42676579/tostring-method-for-a-linkedlist\n",
    "    // i shouldn't have needed a reference, but I wanted to make sure there wasn't anything special to do\n",
    "    @Override\n",
    "    public String toString() {\n",
    "        String string = \"[\"; // starting the list format\n",
    "        Node<T> current = head; // start with head\n",
    "        while (current != null) {\n",
    "            string += current.data; // appending the current data to the string\n",
    "            if (current.next != null) {\n",
    "                string += \", \"; // good punctuation = professionalism\n",
    "            }\n",
    "            current = current.next; // moving on\n",
    "        }\n",
    "        string += \"]\"; // capping off the list format\n",
    "        return string;\n",
    "    }\n",
    "\n",
    "    // this is to return a JSON representation of the list\n",
    "    // i basically did the same thign as I did for the toString() one\n",
    "    public String toJSON() {\n",
    "        String json = \"{\"; // starting format\n",
    "        Node<T> current = head; // start with head\n",
    "        while (current != null) {\n",
    "            json += \"\\\"\" + current.data + \"\\\"\"; // adding current data in quotations for JSON\n",
    "            if (current.next != null) {\n",
    "                json += \", \"; // good punctuation again, this time very important\n",
    "            }\n",
    "            current = current.next; // moving on\n",
    "        }\n",
    "        json += \"}\"; // capping off\n",
    "        return json;\n",
    "    }\n",
    "\n",
    "    // may be implemented? still researching\n",
    "    public void changeSortKey() {\n",
    "        // yet to come...\n",
    "    }\n",
    "\n",
    "    // main method for testing\n",
    "    public static void main(String[] args) {\n",
    "        LinkedList<Integer> list = new LinkedList<>();\n",
    "        list.add(5);\n",
    "        list.add(3);\n",
    "        list.add(8);\n",
    "        list.add(1);\n",
    "        System.out.println(\"Original list: \" + list);\n",
    "        list.selectionSort();\n",
    "        System.out.println(\"Sorted list: \" + list);\n",
    "        System.out.println(\"JSON representation: \" + list.toJSON());\n",
    "    }\n",
    "}\n",
    "\n",
    "LinkedList.main(null);"
   ]
  },
  {
   "cell_type": "markdown",
   "metadata": {},
   "source": [
    "## Custom Comparable\n",
    "\n",
    "I decided to do it with Pokemon, returning to my roots og this year. I figured they'd have a lot of data that could be compared, but I decided to specifically focus on comparing Pokedex numbers. In the franchise, I feel like that would be the most sensible way for a researcher to compare them."
   ]
  },
  {
   "cell_type": "code",
   "execution_count": 26,
   "metadata": {
    "vscode": {
     "languageId": "java"
    }
   },
   "outputs": [],
   "source": [
    "// defining the Collectable interface\n",
    "interface Collectable<T> extends Comparable<T> {\n",
    "    // implementing compareTo method to define natural ordering\n",
    "    @Override\n",
    "    int compareTo(T other);\n",
    "\n",
    "    String toString(); // needed for LL printing\n",
    "}\n",
    "\n",
    "// defining the Pokemon class implementing Collectable interface\n",
    "class Pokemon implements Collectable<Pokemon> {\n",
    "    private String name;\n",
    "    private String[] types;\n",
    "    private int dexNumber;\n",
    "\n",
    "    // basic constructor\n",
    "    public Pokemon(String name, String[] types, int dexNumber) {\n",
    "        this.name = name;\n",
    "        this.types = types;\n",
    "        this.dexNumber = dexNumber;\n",
    "    }\n",
    "\n",
    "    // getters methods\n",
    "    public String getName() {return name;}\n",
    "    public String[] getTypes() {return types;}\n",
    "    public int getDexNumber() {return dexNumber;}\n",
    "\n",
    "    // implementing the interface compareTo method\n",
    "    // i definde natural ordering based on pokedex number\n",
    "    @Override\n",
    "    public int compareTo(Pokemon other) {\n",
    "        return Integer.compare(this.dexNumber, other.dexNumber);\n",
    "    }\n",
    "\n",
    "    // overriding toString method for better representation of the Pokemon\n",
    "    @Override\n",
    "    public String toString() {\n",
    "        return name + \" (#\" + dexNumber + \")\";\n",
    "    }\n",
    "}"
   ]
  },
  {
   "cell_type": "markdown",
   "metadata": {},
   "source": [
    "### Using Custom Comparable With Custom LinkedList\n",
    "\n",
    "See the commented code cell below:"
   ]
  },
  {
   "cell_type": "code",
   "execution_count": 27,
   "metadata": {
    "vscode": {
     "languageId": "java"
    }
   },
   "outputs": [
    {
     "name": "stdout",
     "output_type": "stream",
     "text": [
      "Original list:\n",
      "\t[Pikachu (#25), Walking Wake (#1009), Charmander (#4), Minior (#774), Bulbasaur (#1), Ambipom (#424), Squirtle (#7)]\n",
      "Sorted list by Pokedex number:\n",
      "\t[Bulbasaur (#1), Charmander (#4), Squirtle (#7), Pikachu (#25), Ambipom (#424), Minior (#774), Walking Wake (#1009)]\n"
     ]
    }
   ],
   "source": [
    "public class Main {\n",
    "    public static void main(String[] args) {\n",
    "        // creating the linkedlist of pokemon\n",
    "        LinkedList<Pokemon> pokemonList = new LinkedList<>();\n",
    "\n",
    "        // adding some well-known Pokemon to the list\n",
    "        pokemonList.add(new Pokemon(\"Pikachu\", new String[]{\"Electric\"}, 25));\n",
    "        pokemonList.add(new Pokemon(\"Walking Wake\", new String[]{\"Water\", \"Dragon\"}, 1009));\n",
    "        pokemonList.add(new Pokemon(\"Charmander\", new String[]{\"Fire\"}, 4));\n",
    "        pokemonList.add(new Pokemon(\"Minior\", new String[]{\"Rock\", \"Flying\"}, 774));\n",
    "        pokemonList.add(new Pokemon(\"Bulbasaur\", new String[]{\"Grass\", \"Poison\"}, 1));\n",
    "        pokemonList.add(new Pokemon(\"Ambipom\", new String[]{\"Normal\"}, 424));\n",
    "        pokemonList.add(new Pokemon(\"Squirtle\", new String[]{\"Water\"}, 7));\n",
    "\n",
    "        // I shortened the pokemon toString() for this reason\n",
    "        System.out.println(\"Original list:\\n\\t\" + pokemonList);\n",
    "\n",
    "        // sorting the list based on Pokedex numbers, using SELECTION SORT!!!\n",
    "        pokemonList.selectionSort();\n",
    "\n",
    "        // displaying the sorted list (SELECTION SORT!!!)\n",
    "        System.out.println(\"Sorted list by Pokedex number:\\n\\t\" + pokemonList);\n",
    "    }\n",
    "}\n",
    "\n",
    "Main.main(null);"
   ]
  }
 ],
 "metadata": {
  "kernelspec": {
   "display_name": "Java",
   "language": "java",
   "name": "java"
  },
  "language_info": {
   "codemirror_mode": "java",
   "file_extension": ".jshell",
   "mimetype": "text/x-java-source",
   "name": "Java",
   "pygments_lexer": "java",
   "version": "11.0.20.1+0"
  },
  "orig_nbformat": 4
 },
 "nbformat": 4,
 "nbformat_minor": 2
}
